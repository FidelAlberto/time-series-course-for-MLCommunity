{
  "nbformat": 4,
  "nbformat_minor": 0,
  "metadata": {
    "colab": {
      "provenance": []
    },
    "kernelspec": {
      "name": "python3",
      "display_name": "Python 3"
    },
    "language_info": {
      "name": "python"
    }
  },
  "cells": [
    {
      "cell_type": "markdown",
      "source": [
        "## Functions and Modules in Python (Chapter 6)\n",
        "### Book : Data Analysis with Python\n",
        "### Author :  Rituraj Dixit\n",
        "\n"
      ],
      "metadata": {
        "id": "WqKSuIazaek0"
      }
    },
    {
      "cell_type": "code",
      "execution_count": 2,
      "metadata": {
        "colab": {
          "base_uri": "https://localhost:8080/"
        },
        "id": "JC_76DV4aYzl",
        "outputId": "05de79bd-1e55-4e83-f75f-be2d8edb9730"
      },
      "outputs": [
        {
          "output_type": "execute_result",
          "data": {
            "text/plain": [
              "10"
            ]
          },
          "metadata": {},
          "execution_count": 2
        }
      ],
      "source": [
        "# Common way to create functions\n",
        "def divTwoNumbers(a, b=10):\n",
        "  return a//b\n",
        "\n",
        "divTwoNumbers(100)"
      ]
    },
    {
      "cell_type": "code",
      "source": [
        "# Function with positional variable-length parameter\n",
        "def nNumberAddition(*args):\n",
        "  result = 0\n",
        "  for x in args:\n",
        "    result+=x\n",
        "  return result\n",
        "\n",
        "nNumberAddition(3,2,1)"
      ],
      "metadata": {
        "colab": {
          "base_uri": "https://localhost:8080/"
        },
        "id": "xStbiWFUco2o",
        "outputId": "45c20dad-7985-4c9c-9370-1c748249e446"
      },
      "execution_count": 3,
      "outputs": [
        {
          "output_type": "execute_result",
          "data": {
            "text/plain": [
              "6"
            ]
          },
          "metadata": {},
          "execution_count": 3
        }
      ]
    },
    {
      "cell_type": "code",
      "source": [
        "# Function with Keyworld parameter\n",
        "def selfIntro(**kwargs):\n",
        "  values = list(kwargs.values())\n",
        "  text = (f\"Hi My name is {values[0]}, Im working in {values[1]} and Im from {values[2]}\")\n",
        "  try:\n",
        "    text += f\" also my hobbie is {values[3]}\"\n",
        "  except:\n",
        "    return text\n",
        "  return text\n",
        "\n",
        "print(selfIntro(Name=\"Fidel\", company=\"VittaQuant\", city=\"Cusco\"))\n",
        "print(selfIntro(Name=\"Fidel\", company=\"VittaQuant\", city=\"Cusco\", hobbie=\"coding\"))"
      ],
      "metadata": {
        "colab": {
          "base_uri": "https://localhost:8080/"
        },
        "id": "gnLUUtZFdoIV",
        "outputId": "a52eb179-3bfc-498a-9532-9c5c739dcdf2"
      },
      "execution_count": 8,
      "outputs": [
        {
          "output_type": "stream",
          "name": "stdout",
          "text": [
            "Hi My name is Fidel, Im working in VittaQuant and Im from Cusco\n",
            "Hi My name is Fidel, Im working in VittaQuant and Im from Cusco also my hobbie is coding\n"
          ]
        }
      ]
    },
    {
      "cell_type": "markdown",
      "source": [
        "### Lambda funcions"
      ],
      "metadata": {
        "id": "eQFXnFldgncR"
      }
    },
    {
      "cell_type": "code",
      "source": [
        "twoNumberAddition = lambda a,b : a+b\n",
        "twoNumberAddition(10,20)"
      ],
      "metadata": {
        "colab": {
          "base_uri": "https://localhost:8080/"
        },
        "id": "4VBGHGoLgi21",
        "outputId": "28c77bff-4d99-4502-d1b6-540bdcd0388e"
      },
      "execution_count": 9,
      "outputs": [
        {
          "output_type": "execute_result",
          "data": {
            "text/plain": [
              "30"
            ]
          },
          "metadata": {},
          "execution_count": 9
        }
      ]
    },
    {
      "cell_type": "code",
      "source": [
        "# using the map() funcion\n",
        "number_list = [1,11,111,1111]\n",
        "squared_number_list = list(map(lambda num:num**2, number_list))\n",
        "squared_number_list"
      ],
      "metadata": {
        "colab": {
          "base_uri": "https://localhost:8080/"
        },
        "id": "c-SftYwrjH4u",
        "outputId": "c600247a-5828-4c94-f179-e380ab827b04"
      },
      "execution_count": 12,
      "outputs": [
        {
          "output_type": "execute_result",
          "data": {
            "text/plain": [
              "[1, 121, 12321, 1234321]"
            ]
          },
          "metadata": {},
          "execution_count": 12
        }
      ]
    },
    {
      "cell_type": "code",
      "source": [
        "lista = [10,20,30,40]\n",
        "divididos = list(map(lambda x : x//2, lista))\n",
        "divididos\n"
      ],
      "metadata": {
        "colab": {
          "base_uri": "https://localhost:8080/"
        },
        "id": "ZXl4uOj-kEm3",
        "outputId": "58cd0ed6-a9b3-4224-fbdc-24e38344bc71"
      },
      "execution_count": 13,
      "outputs": [
        {
          "output_type": "execute_result",
          "data": {
            "text/plain": [
              "[5, 10, 15, 20]"
            ]
          },
          "metadata": {},
          "execution_count": 13
        }
      ]
    },
    {
      "cell_type": "code",
      "source": [
        "# using the filter() function\n",
        "number_list = [1,2,41,3,55,33,4,90]\n",
        "number_list = list(filter(lambda x : x%2 ==0, number_list))\n",
        "number_list"
      ],
      "metadata": {
        "colab": {
          "base_uri": "https://localhost:8080/"
        },
        "id": "s5HMck85kVhM",
        "outputId": "8133b917-4e91-46d7-e88f-9ef9ee6e7a32"
      },
      "execution_count": 14,
      "outputs": [
        {
          "output_type": "execute_result",
          "data": {
            "text/plain": [
              "[2, 4, 90]"
            ]
          },
          "metadata": {},
          "execution_count": 14
        }
      ]
    },
    {
      "cell_type": "code",
      "source": [
        "# using the reduce() function\n",
        "import functools\n",
        "number_list = [1,34,56,78,91,11,23,44]\n",
        "sum_of_number_list = functools.reduce(lambda num1, num2: num1+num2, number_list)\n",
        "print(\"Sum of the numbers in the list:\", sum_of_number_list)"
      ],
      "metadata": {
        "colab": {
          "base_uri": "https://localhost:8080/"
        },
        "id": "g-mCsSnWldDA",
        "outputId": "37ec7303-2172-4d45-d285-d39f12c02e68"
      },
      "execution_count": 15,
      "outputs": [
        {
          "output_type": "stream",
          "name": "stdout",
          "text": [
            "Sum of the numbers in the list: 338\n"
          ]
        }
      ]
    },
    {
      "cell_type": "code",
      "source": [],
      "metadata": {
        "id": "aOBoc9NsmXIG"
      },
      "execution_count": null,
      "outputs": []
    }
  ]
}